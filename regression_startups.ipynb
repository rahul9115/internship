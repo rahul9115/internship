{
 "cells": [
  {
   "cell_type": "code",
   "execution_count": 363,
   "metadata": {},
   "outputs": [],
   "source": [
    "import pandas as pd\n",
    "import matplotlib.pyplot as plt\n",
    "import pylab as pl\n",
    "import math as math\n",
    "import seaborn as sns\n",
    "import numpy as np \n",
    "from datetime import datetime\n",
    "from sklearn.model_selection import train_test_split\n"
   ]
  },
  {
   "cell_type": "code",
   "execution_count": 364,
   "metadata": {},
   "outputs": [
    {
     "name": "stdout",
     "output_type": "stream",
     "text": [
      "[9500000.0, 12300000.0, 11000000.0, 24000000.0, 157200000.0, 13000000.0, 8800000.0] [datetime.date(2015, 10, 5), datetime.date(2016, 9, 12), datetime.date(2018, 4, 22), datetime.date(2018, 5, 14), datetime.date(2018, 9, 5), datetime.date(2020, 3, 31), datetime.date(2020, 5, 11)]\n"
     ]
    },
    {
     "data": {
      "image/png": "[encoded data removed]",
      "text/plain": [
       "<Figure size 1440x576 with 1 Axes>"
      ]
     },
     "metadata": {
      "needs_background": "light"
     },
     "output_type": "display_data"
    },
    {
     "name": "stdout",
     "output_type": "stream",
     "text": [
      "Thsi is  [datetime.date(2018, 5, 14), datetime.date(2015, 10, 5), datetime.date(2016, 9, 12), datetime.date(2020, 3, 31), datetime.date(2018, 4, 22)] [datetime.date(2018, 9, 5), datetime.date(2020, 5, 11)] [24000000.0, 9500000.0, 12300000.0, 13000000.0, 11000000.0] [157200000.0, 8800000.0]\n"
     ]
    }
   ],
   "source": [
    "x1=cdf1['Date (dd/mm/yyyy)'].values\n",
    "y1=cdf1['Amount (In USD)'].values\n",
    "x=cdf['Date dd/mm/yyyy'].values\n",
    "y=cdf['Amount in USD'].values\n",
    "\n",
    "global X_train, X_test, y_train, y_test\n",
    "amount=''\n",
    "z=[]\n",
    "x2=[]\n",
    "date=''\n",
    "for i in y:\n",
    "    if i==\"undisclosed\":\n",
    "        continue\n",
    "    for j in i:\n",
    "        if j==\",\":\n",
    "            continue\n",
    "        else:\n",
    "            amount=amount+j\n",
    "    i=float(amount)\n",
    "    z.append(i)\n",
    "\n",
    "    amount=''\n",
    "z.reverse()\n",
    "y3=[]\n",
    "for i in y1:\n",
    "    y3.append(i)\n",
    "y3.reverse()\n",
    "for i in y3:\n",
    "    if i==\"undisclosed\":\n",
    "        continue\n",
    "    for j in i:\n",
    "        if j==\",\":\n",
    "            continue\n",
    "        else:\n",
    "            amount=amount+j\n",
    "    i=float(amount)\n",
    "    z.append(i)\n",
    "    amount=''\n",
    "\n",
    "for i in x:\n",
    "    for j in i:\n",
    "        if j=='/':\n",
    "            date=date+'-'\n",
    "        else:\n",
    "            date=date+j\n",
    "    x2.append(date)\n",
    "    date=''\n",
    "x2.reverse()\n",
    "\n",
    "k=0\n",
    "n=0\n",
    "b=0\n",
    "x3=[]\n",
    "for i in x1:\n",
    "    x3.append(i)\n",
    "x3.reverse()\n",
    "for i in x3:\n",
    "    for j in i:\n",
    "        if j=='/':\n",
    "            date=date+'-'\n",
    "        else:\n",
    "            date=date+j\n",
    "    x2.append(date)\n",
    "    date=''\n",
    "date1=[]\n",
    "\n",
    "for i in x2:\n",
    "    i=datetime.strptime(i, '%d-%m-%Y').date()\n",
    "    date1.append(i)   \n",
    "m=date1    \n",
    "for i in date1:\n",
    "    for j in m:\n",
    "        if b==n:\n",
    "            b=b+1\n",
    "            continue\n",
    "        if i==j:\n",
    "            z.pop(b)\n",
    "            date1.pop(b)\n",
    "            b=b+1\n",
    "        b=b+1 \n",
    "\n",
    "    n=n+1\n",
    "    b=0\n",
    "print(z,date1)\n",
    "\n",
    "plt.figure(figsize=(20,8))\n",
    "\n",
    "plt.scatter(date1,z,color=\"blue\")\n",
    "plt.xlabel('Date')\n",
    "plt.ylabel('Nykaa Funds')\n",
    "plt.title('Nykaa Analysis')\n",
    "plt.show()\n",
    "X_train, X_test, y_train, y_test = train_test_split(date1, z, test_size=0.2, random_state=4)\n",
    "print(\"Thsi is \",X_train, X_test, y_train, y_test)"
   ]
  },
  {
   "cell_type": "code",
   "execution_count": 320,
   "metadata": {},
   "outputs": [],
   "source": [
    "\n",
    "df=pd.read_csv('startup_funding.csv')\n",
    "df= df[df['Amount in USD'].notna()]\n",
    "cdf=df.loc[df['Startup Name']==\"Nykaa\"]\n",
    "cdf=pd.DataFrame(cdf)\n",
    "cdf.to_csv('Vedantu.csv')\n",
    "\n",
    "\n",
    "df=pd.read_csv('merge.csv')\n",
    "df= df[df['Amount (In USD)'].notna()]\n",
    "cdf1=df.loc[df['Startup Name']==\"Nykaa\"]\n",
    "cdf1=pd.DataFrame(cdf1)\n",
    "cdf1.to_csv('Vedantu1.csv')\n",
    "\n",
    "\n",
    "\n"
   ]
  },
  {
   "cell_type": "code",
   "execution_count": 349,
   "metadata": {},
   "outputs": [
    {
     "name": "stdout",
     "output_type": "stream",
     "text": [
      "[[736828]\n",
      " [735876]\n",
      " [736219]\n",
      " [737515]\n",
      " [736806]]\n",
      "[[ 0.00000000e+00  1.02994236e-05  8.58693459e+00 -7.76897130e-06]]\n",
      "this [-1.55409974e+12]\n"
     ]
    }
   ],
   "source": []
  },
  {
   "cell_type": "code",
   "execution_count": 365,
   "metadata": {},
   "outputs": [
    {
     "name": "stdout",
     "output_type": "stream",
     "text": [
      "[736828, 735876, 736219, 737515, 736806]\n"
     ]
    }
   ],
   "source": [
    "x3=[]\n",
    "for i in X_train:\n",
    "    dt=datetime(i.year,i.month,i.day)\n",
    "    x3.append(dt.toordinal())\n",
    "print(x3)   "
   ]
  },
  {
   "cell_type": "code",
   "execution_count": 366,
   "metadata": {},
   "outputs": [
    {
     "name": "stdout",
     "output_type": "stream",
     "text": [
      "[[736828]\n",
      " [735876]\n",
      " [736219]\n",
      " [737515]\n",
      " [736806]]\n",
      "[[2934.07207766]]\n",
      "this [-2.14742068e+09]\n"
     ]
    }
   ],
   "source": [
    "X_train=np.asanyarray(x3)\n",
    "X_train=X_train.reshape(5,1)\n",
    "print(X_train)\n",
    "y_train=np.asanyarray(y_train)\n",
    "y_train=y_train.reshape(1,-1)\n",
    "y_train=y_train.reshape(5,1)\n",
    "from sklearn import linear_model\n",
    "poly = PolynomialFeatures(degree=3)\n",
    "regr=linear_model.LinearRegression()\n",
    "train_y=regr.fit(X_train,y_train)\n",
    "print(regr.coef_)\n",
    "print(\"this\",regr.intercept_)\n"
   ]
  },
  {
   "cell_type": "code",
   "execution_count": 367,
   "metadata": {},
   "outputs": [
    {
     "name": "stdout",
     "output_type": "stream",
     "text": [
      "[736942, 737556]\n"
     ]
    }
   ],
   "source": [
    "x3=[]\n",
    "for i in X_test:\n",
    "    dt=datetime(i.year,i.month,i.day)\n",
    "    x3.append(dt.toordinal())\n",
    "print(x3)    "
   ]
  },
  {
   "cell_type": "code",
   "execution_count": 368,
   "metadata": {},
   "outputs": [
    {
     "name": "stdout",
     "output_type": "stream",
     "text": [
      "[736942 737556]\n",
      "[[736942]\n",
      " [737556]]\n",
      "This [[14820269.9331708 ]\n",
      " [16621790.18885708]]\n",
      "[157200000.0, 8800000.0]\n"
     ]
    }
   ],
   "source": [
    "X_test=np.asanyarray(x3)\n",
    "print(X_test)\n",
    "X_test=X_test.reshape(2,1)\n",
    "print(X_test)\n",
    "y_hat = regr.predict(X_test)\n",
    "print(\"This\",y_hat)\n",
    "print(y_test)"
   ]
  },
  {
   "cell_type": "code",
   "execution_count": 369,
   "metadata": {},
   "outputs": [
    {
     "name": "stdout",
     "output_type": "stream",
     "text": [
      "[[736828]\n",
      " [735876]\n",
      " [736219]\n",
      " [737515]\n",
      " [736806]]\n",
      "[[1.00000000e+00 7.36828000e+05 5.42915502e+11 4.00035343e+17]\n",
      " [1.00000000e+00 7.35876000e+05 5.41513487e+11 3.98486779e+17]\n",
      " [1.00000000e+00 7.36219000e+05 5.42018416e+11 3.99044256e+17]\n",
      " [1.00000000e+00 7.37515000e+05 5.43928375e+11 4.01155336e+17]\n",
      " [1.00000000e+00 7.36806000e+05 5.42883082e+11 3.99999512e+17]]\n"
     ]
    },
    {
     "data": {
      "image/png": "[encoded data removed]",
      "text/plain": [
       "<Figure size 432x288 with 1 Axes>"
      ]
     },
     "metadata": {
      "needs_background": "light"
     },
     "output_type": "display_data"
    }
   ],
   "source": [
    "print(X_train)\n",
    "print(train_x_poly)\n",
    "plt.scatter(date1,z,color=\"blue\")\n",
    "yy = regr.intercept_[0]+ regr.coef_[0][0]*X_train\n",
    "plt.plot(X_train, yy, '-r' )\n",
    "plt.xlabel(\"Nykaa\")\n",
    "plt.ylabel(\"Amount in USD\")\n",
    "plt.show()"
   ]
  },
  {
   "cell_type": "code",
   "execution_count": 127,
   "metadata": {},
   "outputs": [
    {
     "name": "stdout",
     "output_type": "stream",
     "text": [
      "[datetime.date(2017, 5, 30), datetime.date(2015, 6, 9), datetime.date(2020, 4, 6), datetime.date(2015, 4, 3), datetime.date(2015, 5, 6), datetime.date(2016, 9, 19), datetime.date(2018, 2, 7)] [datetime.date(2016, 1, 19), datetime.date(2016, 5, 10)]\n"
     ]
    }
   ],
   "source": []
  },
  {
   "cell_type": "code",
   "execution_count": 370,
   "metadata": {},
   "outputs": [
    {
     "name": "stdout",
     "output_type": "stream",
     "text": [
      "Mean absolute error: 74200000.00\n",
      "Residual sum of squares (MSE): 10032911164858902.00\n",
      "R2-score: -12529.16\n"
     ]
    }
   ],
   "source": [
    "from sklearn.metrics import accuracy_score\n",
    "from sklearn.metrics import r2_score\n",
    "print(\"Mean absolute error: %.2f\" % np.mean(np.absolute(y_hat - y_test)))\n",
    "print(\"Residual sum of squares (MSE): %.2f\" % np.mean((y_hat - y_test) ** 2))\n",
    "print(\"R2-score: %.2f\" % r2_score(y_hat , y_test) )"
   ]
  },
  {
   "cell_type": "code",
   "execution_count": 371,
   "metadata": {},
   "outputs": [],
   "source": [
    "def sigmoid(x, Beta_1, Beta_2):\n",
    "    y = 1 / (1 + np.exp(-Beta_1*(x-Beta_2)))\n",
    "    print(y)\n",
    "    return y"
   ]
  },
  {
   "cell_type": "code",
   "execution_count": 372,
   "metadata": {},
   "outputs": [
    {
     "name": "stdout",
     "output_type": "stream",
     "text": [
      "[[0.99906849 0.99777767 0.99824275 1.         0.99903866]] [[1.         0.39583333 0.5125     0.54166667 0.45833333]]\n"
     ]
    }
   ],
   "source": [
    "x_data=X_train/max(X_train)\n",
    "y_data=y_train/max(y_train)\n",
    "x_data=np.asanyarray(x_data).reshape(1,5)\n",
    "y_data=np.asanyarray(y_data).reshape(1,5)\n",
    "print(x_data,y_data)"
   ]
  },
  {
   "cell_type": "code",
   "execution_count": 373,
   "metadata": {},
   "outputs": [
    {
     "name": "stdout",
     "output_type": "stream",
     "text": [
      "[[0.49976712 0.49944442 0.49956069 0.5        0.49975967]]\n"
     ]
    },
    {
     "ename": "TypeError",
     "evalue": "Improper input: N=2 must not exceed M=1",
     "output_type": "error",
     "traceback": [
      "\u001b[1;31m---------------------------------------------------------------------------\u001b[0m",
      "\u001b[1;31mTypeError\u001b[0m                                 Traceback (most recent call last)",
      "\u001b[1;32m<ipython-input-373-b6da24fa0e2d>\u001b[0m in \u001b[0;36m<module>\u001b[1;34m\u001b[0m\n\u001b[0;32m      1\u001b[0m \u001b[1;32mfrom\u001b[0m \u001b[0mscipy\u001b[0m\u001b[1;33m.\u001b[0m\u001b[0moptimize\u001b[0m \u001b[1;32mimport\u001b[0m \u001b[0mcurve_fit\u001b[0m\u001b[1;33m\u001b[0m\u001b[1;33m\u001b[0m\u001b[0m\n\u001b[1;32m----> 2\u001b[1;33m \u001b[0mpopt\u001b[0m\u001b[1;33m,\u001b[0m \u001b[0mpcov\u001b[0m \u001b[1;33m=\u001b[0m \u001b[0mcurve_fit\u001b[0m\u001b[1;33m(\u001b[0m\u001b[0msigmoid\u001b[0m\u001b[1;33m,\u001b[0m \u001b[0mx_data\u001b[0m\u001b[1;33m,\u001b[0m \u001b[0my_data\u001b[0m\u001b[1;33m)\u001b[0m\u001b[1;33m\u001b[0m\u001b[1;33m\u001b[0m\u001b[0m\n\u001b[0m\u001b[0;32m      3\u001b[0m \u001b[1;31m#print the final parameters\u001b[0m\u001b[1;33m\u001b[0m\u001b[1;33m\u001b[0m\u001b[1;33m\u001b[0m\u001b[0m\n\u001b[0;32m      4\u001b[0m \u001b[0mprint\u001b[0m\u001b[1;33m(\u001b[0m\u001b[0mpopt\u001b[0m\u001b[1;33m[\u001b[0m\u001b[1;36m0\u001b[0m\u001b[1;33m]\u001b[0m\u001b[1;33m,\u001b[0m\u001b[0mpopt\u001b[0m\u001b[1;33m[\u001b[0m\u001b[1;36m1\u001b[0m\u001b[1;33m]\u001b[0m\u001b[1;33m)\u001b[0m\u001b[1;33m\u001b[0m\u001b[1;33m\u001b[0m\u001b[0m\n\u001b[0;32m      5\u001b[0m \u001b[0mprint\u001b[0m\u001b[1;33m(\u001b[0m\u001b[1;34m\" beta_1 = %f, beta_2 = %f\"\u001b[0m \u001b[1;33m%\u001b[0m \u001b[1;33m(\u001b[0m\u001b[0mpopt\u001b[0m\u001b[1;33m[\u001b[0m\u001b[1;36m0\u001b[0m\u001b[1;33m]\u001b[0m\u001b[1;33m,\u001b[0m \u001b[0mpopt\u001b[0m\u001b[1;33m[\u001b[0m\u001b[1;36m1\u001b[0m\u001b[1;33m]\u001b[0m\u001b[1;33m)\u001b[0m\u001b[1;33m)\u001b[0m\u001b[1;33m\u001b[0m\u001b[1;33m\u001b[0m\u001b[0m\n",
      "\u001b[1;32mc:\\users\\swati\\appdata\\local\\programs\\python\\python38\\lib\\site-packages\\scipy\\optimize\\minpack.py\u001b[0m in \u001b[0;36mcurve_fit\u001b[1;34m(f, xdata, ydata, p0, sigma, absolute_sigma, check_finite, bounds, method, jac, **kwargs)\u001b[0m\n\u001b[0;32m    761\u001b[0m         \u001b[1;31m# Remove full_output from kwargs, otherwise we're passing it in twice.\u001b[0m\u001b[1;33m\u001b[0m\u001b[1;33m\u001b[0m\u001b[1;33m\u001b[0m\u001b[0m\n\u001b[0;32m    762\u001b[0m         \u001b[0mreturn_full\u001b[0m \u001b[1;33m=\u001b[0m \u001b[0mkwargs\u001b[0m\u001b[1;33m.\u001b[0m\u001b[0mpop\u001b[0m\u001b[1;33m(\u001b[0m\u001b[1;34m'full_output'\u001b[0m\u001b[1;33m,\u001b[0m \u001b[1;32mFalse\u001b[0m\u001b[1;33m)\u001b[0m\u001b[1;33m\u001b[0m\u001b[1;33m\u001b[0m\u001b[0m\n\u001b[1;32m--> 763\u001b[1;33m         \u001b[0mres\u001b[0m \u001b[1;33m=\u001b[0m \u001b[0mleastsq\u001b[0m\u001b[1;33m(\u001b[0m\u001b[0mfunc\u001b[0m\u001b[1;33m,\u001b[0m \u001b[0mp0\u001b[0m\u001b[1;33m,\u001b[0m \u001b[0mDfun\u001b[0m\u001b[1;33m=\u001b[0m\u001b[0mjac\u001b[0m\u001b[1;33m,\u001b[0m \u001b[0mfull_output\u001b[0m\u001b[1;33m=\u001b[0m\u001b[1;36m1\u001b[0m\u001b[1;33m,\u001b[0m \u001b[1;33m**\u001b[0m\u001b[0mkwargs\u001b[0m\u001b[1;33m)\u001b[0m\u001b[1;33m\u001b[0m\u001b[1;33m\u001b[0m\u001b[0m\n\u001b[0m\u001b[0;32m    764\u001b[0m         \u001b[0mpopt\u001b[0m\u001b[1;33m,\u001b[0m \u001b[0mpcov\u001b[0m\u001b[1;33m,\u001b[0m \u001b[0minfodict\u001b[0m\u001b[1;33m,\u001b[0m \u001b[0merrmsg\u001b[0m\u001b[1;33m,\u001b[0m \u001b[0mier\u001b[0m \u001b[1;33m=\u001b[0m \u001b[0mres\u001b[0m\u001b[1;33m\u001b[0m\u001b[1;33m\u001b[0m\u001b[0m\n\u001b[0;32m    765\u001b[0m         \u001b[0mysize\u001b[0m \u001b[1;33m=\u001b[0m \u001b[0mlen\u001b[0m\u001b[1;33m(\u001b[0m\u001b[0minfodict\u001b[0m\u001b[1;33m[\u001b[0m\u001b[1;34m'fvec'\u001b[0m\u001b[1;33m]\u001b[0m\u001b[1;33m)\u001b[0m\u001b[1;33m\u001b[0m\u001b[1;33m\u001b[0m\u001b[0m\n",
      "\u001b[1;32mc:\\users\\swati\\appdata\\local\\programs\\python\\python38\\lib\\site-packages\\scipy\\optimize\\minpack.py\u001b[0m in \u001b[0;36mleastsq\u001b[1;34m(func, x0, args, Dfun, full_output, col_deriv, ftol, xtol, gtol, maxfev, epsfcn, factor, diag)\u001b[0m\n\u001b[0;32m    390\u001b[0m \u001b[1;33m\u001b[0m\u001b[0m\n\u001b[0;32m    391\u001b[0m     \u001b[1;32mif\u001b[0m \u001b[0mn\u001b[0m \u001b[1;33m>\u001b[0m \u001b[0mm\u001b[0m\u001b[1;33m:\u001b[0m\u001b[1;33m\u001b[0m\u001b[1;33m\u001b[0m\u001b[0m\n\u001b[1;32m--> 392\u001b[1;33m         \u001b[1;32mraise\u001b[0m \u001b[0mTypeError\u001b[0m\u001b[1;33m(\u001b[0m\u001b[1;34m'Improper input: N=%s must not exceed M=%s'\u001b[0m \u001b[1;33m%\u001b[0m \u001b[1;33m(\u001b[0m\u001b[0mn\u001b[0m\u001b[1;33m,\u001b[0m \u001b[0mm\u001b[0m\u001b[1;33m)\u001b[0m\u001b[1;33m)\u001b[0m\u001b[1;33m\u001b[0m\u001b[1;33m\u001b[0m\u001b[0m\n\u001b[0m\u001b[0;32m    393\u001b[0m \u001b[1;33m\u001b[0m\u001b[0m\n\u001b[0;32m    394\u001b[0m     \u001b[1;32mif\u001b[0m \u001b[0mepsfcn\u001b[0m \u001b[1;32mis\u001b[0m \u001b[1;32mNone\u001b[0m\u001b[1;33m:\u001b[0m\u001b[1;33m\u001b[0m\u001b[1;33m\u001b[0m\u001b[0m\n",
      "\u001b[1;31mTypeError\u001b[0m: Improper input: N=2 must not exceed M=1"
     ]
    }
   ],
   "source": [
    "from scipy.optimize import curve_fit\n",
    "popt, pcov = curve_fit(sigmoid, x_data, y_data)\n",
    "#print the final parameters\n",
    "print(popt[0],popt[1])\n",
    "print(\" beta_1 = %f, beta_2 = %f\" % (popt[0], popt[1]))"
   ]
  },
  {
   "cell_type": "code",
   "execution_count": null,
   "metadata": {},
   "outputs": [],
   "source": [
    "\n"
   ]
  },
  {
   "cell_type": "code",
   "execution_count": 333,
   "metadata": {},
   "outputs": [],
   "source": []
  },
  {
   "cell_type": "code",
   "execution_count": null,
   "metadata": {},
   "outputs": [],
   "source": []
  }
 ],
 "metadata": {
  "kernelspec": {
   "display_name": "Python 3",
   "language": "python",
   "name": "python3"
  },
  "language_info": {
   "codemirror_mode": {
    "name": "ipython",
    "version": 3
   },
   "file_extension": ".py",
   "mimetype": "text/x-python",
   "name": "python",
   "nbconvert_exporter": "python",
   "pygments_lexer": "ipython3",
   "version": "3.8.2"
  }
 },
 "nbformat": 4,
 "nbformat_minor": 4
}
