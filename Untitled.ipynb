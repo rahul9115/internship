{
 "cells": [
  {
   "cell_type": "code",
   "execution_count": 7,
   "metadata": {},
   "outputs": [
    {
     "name": "stdout",
     "output_type": "stream",
     "text": [
      "[<table class=\"tablepress tablepress-id-46\" id=\"tablepress-46\">\n",
      "<thead>\n",
      "<tr class=\"row-1 odd\">\n",
      "<th class=\"column-1\">Sr. No.</th><th class=\"column-2\">Date (dd/mm/yyyy)</th><th class=\"column-3\">Startup Name</th><th class=\"column-4\">Industry / Vertical</th><th class=\"column-5\">Sub-Vertical</th><th class=\"column-6\">City / Location</th><th class=\"column-7\">Investors' Name</th><th class=\"column-8\">Investment Type</th><th class=\"column-9\">Amount (In USD)</th>\n",
      "</tr>\n",
      "</thead>\n",
      "<tbody class=\"row-hover\">\n",
      "<tr class=\"row-2 even\">\n",
      "<td class=\"column-1\">1</td><td class=\"column-2\">21/05/2020</td><td class=\"column-3\"><a data-wpel-link=\"external\" href=\"https://leap.club/\" rel=\"noopener nofollow external noreferrer\" target=\"_blank\">leap.club</a></td><td class=\"column-4\">Professional Network for Women</td><td class=\"column-5\">Professional Network for Women</td><td class=\"column-6\">Gurugram</td><td class=\"column-7\">Whiteboard Capital (Sandeep Tandon’s VC fund), FirstCheque, Artha India Ventures, Sweta Rau (Founder, White Ventures), Amrish Rau (CEO Pinelabs, Founder Citrus Pay), Deepak Abbot (Former SVP, Paytm), and Harpreet Singh Grover (Co-founder, Co-Cubes) and others.<br/>\n",
      "</td><td class=\"column-8\">Pre Seed</td><td class=\"column-9\"><strong>340,000</strong></td>\n",
      "</tr>\n",
      "<tr class=\"row-3 odd\">\n",
      "<td class=\"column-1\">2</td><td class=\"column-2\">20/05/2020</td><td class=\"column-3\"><a data-wpel-link=\"external\" href=\"https://www.tring.co.in/\" rel=\"noopener nofollow external noreferrer\" target=\"_blank\">Tring</a></td><td class=\"column-4\">Advertising</td><td class=\"column-5\">Celebrity Engagement Platform</td><td class=\"column-6\">Mumbai</td><td class=\"column-7\">Tencent, Ark Impact, KoKalyan Krishnamurthy of Flipkart, Sujeet Kumar of Udaan, Gaurav Munjal of Unacademy, Keshav Sanghi of VentureWorks India, Roman Saini of Unacademy, Hemesh Singh of Unacademy, and Sumit Jain of Opentalk amongst others. <br/>\n",
      "</td><td class=\"column-8\">Angel</td><td class=\"column-9\"><strong>NA</strong><br/>\n",
      "</td>\n",
      "</tr>\n",
      "<tr class=\"row-4 even\">\n",
      "<td class=\"column-1\">3</td><td class=\"column-2\">20/05/2020</td><td class=\"column-3\"><a data-wpel-link=\"external\" href=\"https://khatabook.com/\" rel=\"noopener nofollow external noreferrer\" target=\"_blank\">Khatabook</a><br/>\n",
      "</td><td class=\"column-4\">Utility Solutions Provider</td><td class=\"column-5\">Financial Services, Accounting, Payments. </td><td class=\"column-6\">Bangalore</td><td class=\"column-7\">B Capital Group, Sequoia India, Partners of DST Global, Tencent, GGV, RTP Global, Hummingbird Ventures, Falcon Edge Capital, Rocketship.vc, Unilever Ventures, Kevin Weil, Alexander Will, Kunal Shah, Kunal Bahl, and Rohit Bansal<br/>\n",
      "<br/>\n",
      "<br/>\n",
      "</td><td class=\"column-8\">Series B</td><td class=\"column-9\"><strong>60,000,000</strong></td>\n",
      "</tr>\n",
      "<tr class=\"row-5 odd\">\n",
      "<td class=\"column-1\">4</td><td class=\"column-2\">19/05/2020</td><td class=\"column-3\"><a data-wpel-link=\"external\" href=\"https://vakilsearch.com/\" rel=\"noopener nofollow external noreferrer\" target=\"_blank\">Vakilsearch</a></td><td class=\"column-4\">LegalTech</td><td class=\"column-5\">Online professional services platform for lawyers, corporate bodies, and professionals in India.</td><td class=\"column-6\">Chennai</td><td class=\"column-7\">Udaan co-founder, Sujeet Kumar</td><td class=\"column-8\">Series A</td><td class=\"column-9\"><strong>NA</strong></td>\n",
      "</tr>\n",
      "<tr class=\"row-6 even\">\n",
      "<td class=\"column-1\">5</td><td class=\"column-2\">19/05/2020</td><td class=\"column-3\"><a data-wpel-link=\"external\" href=\"https://www.lendingkart.com/\" rel=\"noopener nofollow external noreferrer\" target=\"_blank\">Lendingkart</a><br/>\n",
      "</td><td class=\"column-4\">FinTech</td><td class=\"column-5\">Financial Services, Lending, Micro Lending.</td><td class=\"column-6\">Ahmedabad</td><td class=\"column-7\">Fullerton Financial Holdings Pte Ltd (FFH) and Bertelsmann India Investments, Sistema Asia Fund and India Quotient. <br/>\n",
      "</td><td class=\"column-8\">Series D</td><td class=\"column-9\"><strong>42,000,000</strong></td>\n",
      "</tr>\n",
      "<tr class=\"row-7 odd\">\n",
      "<td class=\"column-1\">6</td><td class=\"column-2\">21/05/2020</td><td class=\"column-3\"><a data-wpel-link=\"external\" href=\"http://www.nwnt.ai/\" rel=\"noopener nofollow external noreferrer\" target=\"_blank\">No Worry No Tension Healthcare (NWNT)</a></td><td class=\"column-4\">Healthcare</td><td class=\"column-5\">Emotional health and mental health wellness<br/>\n",
      "<br/>\n",
      "</td><td class=\"column-6\">New Delhi</td><td class=\"column-7\">Amit Burman, Chairman of Dabur India,<br/>\n",
      "</td><td class=\"column-8\">Pre Series A</td><td class=\"column-9\"><strong>NA</strong></td>\n",
      "</tr>\n",
      "<tr class=\"row-8 even\">\n",
      "<td class=\"column-1\">7</td><td class=\"column-2\">05/05/2020</td><td class=\"column-3\"><a data-wpel-link=\"external\" href=\"https://classplusapp.com/\" rel=\"noopener nofollow external noreferrer\" target=\"_blank\">Classplus</a><br/>\n",
      "<br/>\n",
      "</td><td class=\"column-4\">EduTech</td><td class=\"column-5\">e-learning, education solutions.</td><td class=\"column-6\">Noida</td><td class=\"column-7\">RTP Global, lume Ventures, Sequoia Capital India's Surge, Spiral Ventures, and Strive.</td><td class=\"column-8\">Series A</td><td class=\"column-9\"><strong>9,000,000</strong></td>\n",
      "</tr>\n",
      "<tr class=\"row-9 odd\">\n",
      "<td class=\"column-1\">8</td><td class=\"column-2\">11/05/2020</td><td class=\"column-3\"><a data-wpel-link=\"external\" href=\"https://classplusapp.com/\" rel=\"noopener nofollow external noreferrer\" target=\"_blank\">Nykaa</a></td><td class=\"column-4\">E-commerce</td><td class=\"column-5\">Cosmetic and Beauty Products</td><td class=\"column-6\">Mumbai</td><td class=\"column-7\">Steadview Capital</td><td class=\"column-8\">Series F</td><td class=\"column-9\"><strong>8,800,000</strong></td>\n",
      "</tr>\n",
      "<tr class=\"row-10 even\">\n",
      "<td class=\"column-1\">9</td><td class=\"column-2\">13/05/2020</td><td class=\"column-3\"><a data-wpel-link=\"external\" href=\"https://magicpin.in/india/Pune/home/\" rel=\"noopener nofollow external noreferrer\" target=\"_blank\">Magicpin</a></td><td class=\"column-4\">E-commerce</td><td class=\"column-5\">E-commerce</td><td class=\"column-6\">Gurugram</td><td class=\"column-7\">Lightspeed Venture Partners, along with the participation of Moonstone Investments, WaterBridge Venture, The Bunting Family Private Fund, and Srivatsan Rajan<br/>\n",
      "</td><td class=\"column-8\">Series C</td><td class=\"column-9\"><strong>4,000,000</strong></td>\n",
      "</tr>\n",
      "<tr class=\"row-11 odd\">\n",
      "<td class=\"column-1\">10</td><td class=\"column-2\">18/05/2020</td><td class=\"column-3\"><a data-wpel-link=\"external\" href=\"https://letstransport.in/\" rel=\"noopener nofollow external noreferrer\" target=\"_blank\">LetsTransport</a></td><td class=\"column-4\">Logistics Solution Provider</td><td class=\"column-5\">Logistics, Transportation, Travel</td><td class=\"column-6\">Bangalore</td><td class=\"column-7\">InnoVen Capital</td><td class=\"column-8\">Venture - Series Unknown</td><td class=\"column-9\"><strong>1,700,000</strong></td>\n",
      "</tr>\n",
      "</tbody>\n",
      "</table>]\n"
     ]
    }
   ],
   "source": [
    "from requests import get\n",
    "from bs4 import BeautifulSoup\n",
    "url = 'https://trak.in/india-startup-funding-investment-2015/'\n",
    "response = get(url)\n",
    "html_soup = BeautifulSoup(response.text, 'html.parser')\n",
    "movie_containers = html_soup.find_all('table', class_='tablepress tablepress-id-46')\n",
    "print(movie_containers)\n"
   ]
  },
  {
   "cell_type": "code",
   "execution_count": null,
   "metadata": {},
   "outputs": [],
   "source": []
  },
  {
   "cell_type": "code",
   "execution_count": null,
   "metadata": {},
   "outputs": [],
   "source": []
  }
 ],
 "metadata": {
  "kernelspec": {
   "display_name": "Python 3",
   "language": "python",
   "name": "python3"
  },
  "language_info": {
   "codemirror_mode": {
    "name": "ipython",
    "version": 3
   },
   "file_extension": ".py",
   "mimetype": "text/x-python",
   "name": "python",
   "nbconvert_exporter": "python",
   "pygments_lexer": "ipython3",
   "version": "3.8.2"
  }
 },
 "nbformat": 4,
 "nbformat_minor": 4
}
