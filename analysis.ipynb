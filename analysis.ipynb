{
 "cells": [
  {
   "cell_type": "code",
   "execution_count": 35,
   "metadata": {},
   "outputs": [],
   "source": [
    "import pandas as pd\n",
    "import matplotlib.pyplot as plt\n",
    "import pylab as pl\n",
    "import math as math\n",
    "import seaborn as sns\n",
    "import numpy as np "
   ]
  },
  {
   "cell_type": "code",
   "execution_count": 30,
   "metadata": {},
   "outputs": [
    {
     "data": {
      "text/html": [
       "<div>\n",
       "<style scoped>\n",
       "    .dataframe tbody tr th:only-of-type {\n",
       "        vertical-align: middle;\n",
       "    }\n",
       "\n",
       "    .dataframe tbody tr th {\n",
       "        vertical-align: top;\n",
       "    }\n",
       "\n",
       "    .dataframe thead th {\n",
       "        text-align: right;\n",
       "    }\n",
       "</style>\n",
       "<table border=\"1\" class=\"dataframe\">\n",
       "  <thead>\n",
       "    <tr style=\"text-align: right;\">\n",
       "      <th></th>\n",
       "      <th>Date (dd/mm/yyyy)</th>\n",
       "      <th>Startup Name</th>\n",
       "      <th>Amount (In USD)</th>\n",
       "      <th>Industry / Vertical</th>\n",
       "      <th>Sub-Vertical</th>\n",
       "    </tr>\n",
       "  </thead>\n",
       "  <tbody>\n",
       "    <tr>\n",
       "      <th>95</th>\n",
       "      <td>09-04-2020</td>\n",
       "      <td>Vedantu</td>\n",
       "      <td>1,25,60,000</td>\n",
       "      <td>EduTech</td>\n",
       "      <td>Online Tutoring</td>\n",
       "    </tr>\n",
       "  </tbody>\n",
       "</table>\n",
       "</div>"
      ],
      "text/plain": [
       "   Date (dd/mm/yyyy) Startup Name Amount (In USD) Industry / Vertical  \\\n",
       "95        09-04-2020      Vedantu     1,25,60,000             EduTech   \n",
       "\n",
       "       Sub-Vertical  \n",
       "95  Online Tutoring  "
      ]
     },
     "execution_count": 30,
     "metadata": {},
     "output_type": "execute_result"
    }
   ],
   "source": [
    "df=pd.read_csv('merge.csv')\n",
    "\n",
    "cdf1=df.loc[df['Startup Name']=='Vedantu']\n",
    "cdf1[['Date (dd/mm/yyyy)','Startup Name','Amount (In USD)','Industry / Vertical','Sub-Vertical']]\n"
   ]
  },
  {
   "cell_type": "code",
   "execution_count": 55,
   "metadata": {},
   "outputs": [
    {
     "data": {
      "text/html": [
       "<div>\n",
       "<style scoped>\n",
       "    .dataframe tbody tr th:only-of-type {\n",
       "        vertical-align: middle;\n",
       "    }\n",
       "\n",
       "    .dataframe tbody tr th {\n",
       "        vertical-align: top;\n",
       "    }\n",
       "\n",
       "    .dataframe thead th {\n",
       "        text-align: right;\n",
       "    }\n",
       "</style>\n",
       "<table border=\"1\" class=\"dataframe\">\n",
       "  <thead>\n",
       "    <tr style=\"text-align: right;\">\n",
       "      <th></th>\n",
       "      <th>Date dd/mm/yyyy</th>\n",
       "      <th>Startup Name</th>\n",
       "      <th>Amount in USD</th>\n",
       "      <th>Industry Vertical</th>\n",
       "      <th>SubVertical</th>\n",
       "    </tr>\n",
       "  </thead>\n",
       "  <tbody>\n",
       "    <tr>\n",
       "      <th>286</th>\n",
       "      <td>05/04/2018</td>\n",
       "      <td>Vedantu</td>\n",
       "      <td>1,00,00,000</td>\n",
       "      <td>Ed-Tech</td>\n",
       "      <td>Interactive Online Tutoring Platform</td>\n",
       "    </tr>\n",
       "    <tr>\n",
       "      <th>2767</th>\n",
       "      <td>07/05/2015</td>\n",
       "      <td>Vedantu</td>\n",
       "      <td>50,00,000</td>\n",
       "      <td>Online Education Platform</td>\n",
       "      <td>NaN</td>\n",
       "    </tr>\n",
       "  </tbody>\n",
       "</table>\n",
       "</div>"
      ],
      "text/plain": [
       "     Date dd/mm/yyyy Startup Name Amount in USD          Industry Vertical  \\\n",
       "286       05/04/2018      Vedantu   1,00,00,000                    Ed-Tech   \n",
       "2767      07/05/2015      Vedantu     50,00,000  Online Education Platform   \n",
       "\n",
       "                               SubVertical  \n",
       "286   Interactive Online Tutoring Platform  \n",
       "2767                                   NaN  "
      ]
     },
     "execution_count": 55,
     "metadata": {},
     "output_type": "execute_result"
    }
   ],
   "source": [
    "df=pd.read_csv('startup_funding.csv')\n",
    "df.dropna()\n",
    "cdf=df.loc[df['Startup Name']=='Vedantu']\n",
    "cdf[['Date dd/mm/yyyy','Startup Name','Amount in USD','Industry Vertical','SubVertical']]\n"
   ]
  },
  {
   "cell_type": "code",
   "execution_count": 3,
   "metadata": {},
   "outputs": [],
   "source": [
    "def plot(x1,y1,x,y):\n",
    "    amount=''\n",
    "    z=[]\n",
    "    x2=[]\n",
    "    date=''\n",
    "    for i in y:\n",
    "        if i==\"undisclosed\":\n",
    "            continue\n",
    "        for j in i:\n",
    "            if j==\",\":\n",
    "                continue\n",
    "            else:\n",
    "                amount=amount+j\n",
    "        i=float(amount)\n",
    "        z.append(i)\n",
    "        \n",
    "        amount=''\n",
    "    z.reverse()\n",
    "\n",
    "    \n",
    "    for i in y1:\n",
    "        if i==\"undisclosed\":\n",
    "            continue\n",
    "        for j in i:\n",
    "            if j==\",\":\n",
    "                continue\n",
    "            else:\n",
    "                amount=amount+j\n",
    "        i=float(amount)\n",
    "        \n",
    "        z.append(i)\n",
    "        amount=''\n",
    "    \n",
    "    for i in x:\n",
    "        for j in i:\n",
    "            if j=='/':\n",
    "                date=date+'-'\n",
    "            else:\n",
    "                date=date+j\n",
    "        x2.append(date)\n",
    "        date=''\n",
    "    x2.reverse()\n",
    "    m=x2\n",
    "    k=0\n",
    "    n=0\n",
    "    b=0\n",
    "    for i in x1:\n",
    "        x2.append(i)\n",
    "        \n",
    "    for i in x2:\n",
    "        for j in m:\n",
    "            if b==n:\n",
    "                b=b+1\n",
    "                continue\n",
    "            if i==j:\n",
    "                z.pop(b)\n",
    "                x2.pop(b)\n",
    "                b=b+1\n",
    "            b=b+1\n",
    "            \n",
    "        n=n+1\n",
    "        b=0\n",
    "            \n",
    "        \n",
    "    print(z,x2)\n",
    "    plt.figure(figsize=(20,10))\n",
    "    plt.plot(x2,z,color=\"blue\")\n",
    "    plt.xlabel('Date')\n",
    "    plt.ylabel('Swiggy Funds')\n",
    "    plt.show()"
   ]
  },
  {
   "cell_type": "code",
   "execution_count": 43,
   "metadata": {},
   "outputs": [
    {
     "name": "stdout",
     "output_type": "stream",
     "text": [
      "   Unnamed: 0 Date (dd/mm/yyyy) Startup Name Industry / Vertical  \\\n",
      "95          1        09-04-2020      Vedantu             EduTech   \n",
      "\n",
      "       Sub-Vertical City / Location Investors' Name Investment Type  \\\n",
      "95  Online Tutoring       Bengaluru  Legend Capital       Series C1   \n",
      "\n",
      "   Amount (In USD)  \n",
      "95     1,25,60,000  \n",
      "   Unnamed: 0 Date (dd/mm/yyyy) Startup Name Industry / Vertical  \\\n",
      "95          1        09-04-2020      Vedantu             EduTech   \n",
      "\n",
      "       Sub-Vertical City / Location Investors' Name Investment Type  \\\n",
      "95  Online Tutoring       Bengaluru  Legend Capital       Series C1   \n",
      "\n",
      "   Amount (In USD)  \n",
      "95     1,25,60,000  \n",
      "[5000000.0, 10000000.0, 12560000.0] ['07-05-2015', '05-04-2018', '09-04-2020']\n"
     ]
    },
    {
     "data": {
      "image/png": "[encoded data removed]",
      "text/plain": [
       "<Figure size 1440x720 with 1 Axes>"
      ]
     },
     "metadata": {
      "needs_background": "light"
     },
     "output_type": "display_data"
    }
   ],
   "source": [
    "df=pd.read_csv('startup_funding.csv')\n",
    "df= df[df['Amount in USD'].notna()]\n",
    "cdf=df.loc[df['Startup Name']==\"Vedantu\"]\n",
    "cdf=pd.DataFrame(cdf)\n",
    "cdf.to_csv('Vedantu.csv')\n",
    "\n",
    "df=pd.read_csv('merge.csv')\n",
    "df= df[df['Amount (In USD)'].notna()]\n",
    "cdf1=df.loc[df['Startup Name']==\"Vedantu\"]\n",
    "cdf1=pd.DataFrame(cdf1)\n",
    "print(cdf1.head())\n",
    "cdf1.to_csv('Vedantu1.csv')\n",
    "\n",
    "x1=cdf1['Date (dd/mm/yyyy)'].values\n",
    "y1=cdf1['Amount (In USD)'].values\n",
    "x=cdf['Date dd/mm/yyyy'].values\n",
    "y=cdf['Amount in USD'].values\n",
    "print(cdf1)\n",
    "plot(x1,y1,x,y)"
   ]
  },
  {
   "cell_type": "code",
   "execution_count": 90,
   "metadata": {},
   "outputs": [
    {
     "name": "stdout",
     "output_type": "stream",
     "text": [
      "30-07-2018 5\n",
      "13-01-2020 4\n",
      "[20000000.0, 11000000.0, 5000000.0, 8048394.0] ['03-12-2015', '30-07-2018', '17-04-2019', '13-01-2020']\n"
     ]
    }
   ],
   "source": [
    "x2=['03-12-2015', '30-07-2018', '17-04-2019', '13-01-2020', '13-01-2020', '30-07-2018']\n",
    "z=[20000000.0, 11000000.0, 5000000.0, 8048394.0, 8048394.0, 11000000.0]\n",
    "m=x2\n",
    "n=0\n",
    "for i in x2:\n",
    "    \n",
    "    for j in m:\n",
    "        \n",
    "        if b==n:\n",
    "            b=b+1\n",
    "            continue\n",
    "        if i==j:\n",
    "            z.pop(b)\n",
    "            print(j,b)\n",
    "            x2.pop(b)\n",
    "            b=b+1\n",
    "        b=b+1\n",
    "            \n",
    "    n=n+1\n",
    "    \n",
    "    b=0\n",
    "            \n",
    "                \n",
    "print(z,x2)                        "
   ]
  },
  {
   "cell_type": "code",
   "execution_count": 26,
   "metadata": {},
   "outputs": [
    {
     "ename": "AttributeError",
     "evalue": "'numpy.ndarray' object has no attribute 'pivot'",
     "output_type": "error",
     "traceback": [
      "\u001b[1;31m---------------------------------------------------------------------------\u001b[0m",
      "\u001b[1;31mAttributeError\u001b[0m                            Traceback (most recent call last)",
      "\u001b[1;32m<ipython-input-26-7547ed8d04c8>\u001b[0m in \u001b[0;36m<module>\u001b[1;34m\u001b[0m\n\u001b[1;32m----> 1\u001b[1;33m \u001b[0mresults\u001b[0m\u001b[1;33m=\u001b[0m\u001b[0mdf1\u001b[0m\u001b[1;33m.\u001b[0m\u001b[0mpivot\u001b[0m\u001b[1;33m(\u001b[0m\u001b[0mindex\u001b[0m\u001b[1;33m=\u001b[0m\u001b[1;34m\"Startup Name\"\u001b[0m\u001b[1;33m,\u001b[0m\u001b[0mcolumns\u001b[0m\u001b[1;33m=\u001b[0m\u001b[1;34m\"Date dd/mm/yyyy\"\u001b[0m\u001b[1;33m,\u001b[0m\u001b[0mvalues\u001b[0m\u001b[1;33m=\u001b[0m\u001b[1;34m\"Amount in USD\"\u001b[0m\u001b[1;33m)\u001b[0m\u001b[1;33m\u001b[0m\u001b[1;33m\u001b[0m\u001b[0m\n\u001b[0m\u001b[0;32m      2\u001b[0m \u001b[0mresults\u001b[0m\u001b[1;33m\u001b[0m\u001b[1;33m\u001b[0m\u001b[0m\n",
      "\u001b[1;31mAttributeError\u001b[0m: 'numpy.ndarray' object has no attribute 'pivot'"
     ]
    }
   ],
   "source": []
  },
  {
   "cell_type": "code",
   "execution_count": 160,
   "metadata": {
    "scrolled": true
   },
   "outputs": [
    {
     "name": "stdout",
     "output_type": "stream",
     "text": [
      "(2066, 9)\n",
      "                0\n",
      "0     200000000.0\n",
      "1       8048394.0\n",
      "2      18358860.0\n",
      "3       3000000.0\n",
      "4       1800000.0\n",
      "...           ...\n",
      "2061    2500000.0\n",
      "2062    4500000.0\n",
      "2063     825000.0\n",
      "2064    1500000.0\n",
      "2065     140000.0\n",
      "\n",
      "[2066 rows x 1 columns]\n"
     ]
    }
   ],
   "source": [
    "df=pd.read_csv('startup.csv')\n",
    "print(df.shape)\n",
    "# x=float(\"nan\")\n",
    "# df.drop( df[ df['Amount in USD'] ==\"undisclosed\" ].index , inplace=True)\n",
    "# df.drop( df[ df['Amount in USD'] ==\"Undisclosed\" ].index , inplace=True)\n",
    "# df.drop( df[ df['Amount in USD'] ==\"unknown\" ].index , inplace=True)\n",
    "# df.drop( df[ df['Amount in USD'] ==x ].index , inplace=True)\n",
    "# df = df[pd.notnull(df['Amount in USD'])]\n",
    "\n",
    "#df.to_csv('startup.csv')\n",
    "df = df.rename(columns={'Amount in USD': 'AmountinUSD'})\n",
    "df1=df['AmountinUSD'].values\n",
    "amt=[]\n",
    "amount2=''\n",
    "n=0\n",
    "b=0\n",
    "\n",
    "for i in df1:\n",
    "    for j in i:\n",
    "        if j==\",\" or j==\"+\":\n",
    "               \n",
    "            continue\n",
    "        else:\n",
    "               \n",
    "            amount2=amount2+j\n",
    "        \n",
    "\n",
    "    i=float(amount2)\n",
    "    amt.append(i)\n",
    "    amount2=''\n",
    "    n=n+1\n",
    "    \n",
    "    b=0\n",
    "df2 = pd.DataFrame(amt)\n",
    "print(df2)\n",
    "\n",
    "df.AmountinUSD=df2\n",
    "\n",
    "df.to_csv('startup1.csv')\n"
   ]
  },
  {
   "cell_type": "code",
   "execution_count": 203,
   "metadata": {},
   "outputs": [],
   "source": [
    "df=pd.read_csv('startup1.csv')\n",
    "cdf=df.loc[df['Startup Name']==\"Zomato\"]\n",
    "\n"
   ]
  },
  {
   "cell_type": "code",
   "execution_count": null,
   "metadata": {},
   "outputs": [],
   "source": []
  },
  {
   "cell_type": "code",
   "execution_count": null,
   "metadata": {},
   "outputs": [],
   "source": []
  },
  {
   "cell_type": "code",
   "execution_count": 218,
   "metadata": {},
   "outputs": [
    {
     "name": "stdout",
     "output_type": "stream",
     "text": [
      "[[1.5e+08 2.0e+08 6.0e+07 2.5e+07]]\n"
     ]
    }
   ],
   "source": [
    "date=(np.asanyarray(cdf['Date dd/mm/yyyy']))\n",
    "amount=(np.asanyarray(cdf['AmountinUSD'])).reshape(1,4)\n",
    "print(amount)"
   ]
  },
  {
   "cell_type": "code",
   "execution_count": 219,
   "metadata": {},
   "outputs": [
    {
     "data": {
      "text/plain": [
       "4"
      ]
     },
     "execution_count": 219,
     "metadata": {},
     "output_type": "execute_result"
    }
   ],
   "source": [
    "from datetime import datetime\n",
    "date1=[]\n",
    "n=0\n",
    "for i in date:\n",
    "    i=datetime.strptime(i, '%d/%m/%Y').date()\n",
    "    date1.append(i)\n",
    "    n=n+1\n",
    "len(date1)"
   ]
  },
  {
   "cell_type": "code",
   "execution_count": 228,
   "metadata": {},
   "outputs": [],
   "source": [
    "date1=np.asanyarray(date1).reshape(1,4)"
   ]
  },
  {
   "cell_type": "code",
   "execution_count": 222,
   "metadata": {},
   "outputs": [
    {
     "name": "stdout",
     "output_type": "stream",
     "text": [
      "                 AmountinUSD                                     \n",
      "Date dd/mm/yyyy     1/2/2018    10/1/2020   11/4/2015    7/9/2015\n",
      "Startup Name                                                     \n",
      "Zomato           200000000.0  150000000.0  25000000.0  60000000.0\n"
     ]
    },
    {
     "data": {
      "text/plain": [
       "(1, 4)"
      ]
     },
     "execution_count": 222,
     "metadata": {},
     "output_type": "execute_result"
    }
   ],
   "source": [
    "a=[]\n",
    "a=df['AmountinUSD'].values\n",
    "\n",
    "d=pd.pivot_table(cdf,index=['Startup Name'],columns=[\"Date dd/mm/yyyy\"],values=['AmountinUSD'])\n",
    "d=d.fillna(0)\n",
    "print(d)\n",
    "d.shape"
   ]
  },
  {
   "cell_type": "code",
   "execution_count": 236,
   "metadata": {},
   "outputs": [
    {
     "data": {
      "image/png": "[encoded data removed]",
      "text/plain": [
       "<Figure size 864x504 with 1 Axes>"
      ]
     },
     "metadata": {},
     "output_type": "display_data"
    }
   ],
   "source": []
  },
  {
   "cell_type": "code",
   "execution_count": 239,
   "metadata": {
    "scrolled": true
   },
   "outputs": [
    {
     "name": "stdout",
     "output_type": "stream",
     "text": [
      "(1, 4)\n",
      "(1, 4)\n",
      "AxesSubplot(0.125,0.125;0.62x0.755)\n"
     ]
    },
    {
     "data": {
      "image/png": "[encoded data removed]",
      "text/plain": [
       "<Figure size 864x504 with 2 Axes>"
      ]
     },
     "metadata": {
      "needs_background": "light"
     },
     "output_type": "display_data"
    }
   ],
   "source": [
    "fig,ax=plt.subplots(figsize=(12,7))\n",
    "title=\"Zomato trend\"\n",
    "plt.title(title,fontsize=18)\n",
    "ttl=ax.title\n",
    "ttl.set_position([0.5,1.05])\n",
    "ax.set_xticks([])\n",
    "ax.set_yticks([])\n",
    "ax.axis('off')\n",
    "\n",
    "labels=(np.asarray([\"{0} \\n {1:.2f}\".format(date1,amount1) for date1,amount1 in zip(date1.flatten(),amount.flatten())])).reshape(1,4)\n",
    "print(labels.shape)\n",
    "print(d.shape)\n",
    "print(sns.heatmap(d,annot=labels,fmt=\"\",cmap='RdYlGn',linewidth=0.30,ax=ax))\n",
    "plt.show()"
   ]
  },
  {
   "cell_type": "code",
   "execution_count": 22,
   "metadata": {},
   "outputs": [
    {
     "name": "stdout",
     "output_type": "stream",
     "text": [
      "(9, 11)\n",
      "             0\n",
      "0  100000000.0\n",
      "1   80000000.0\n",
      "2   15000000.0\n",
      "3    7000000.0\n",
      "4   35000000.0\n",
      "5   16500000.0\n",
      "6   15000000.0\n",
      "7    2000000.0\n",
      "8   43000000.0\n"
     ]
    }
   ],
   "source": [
    "df=pd.read_csv('swiggy.csv')\n",
    "print(df.shape)\n",
    "x=float(\"nan\")\n",
    "df.drop( df[ df['Amount in USD'] ==\"undisclosed\" ].index , inplace=True)\n",
    "df.drop( df[ df['Amount in USD'] ==\"Undisclosed\" ].index , inplace=True)\n",
    "df.drop( df[ df['Amount in USD'] ==\"unknown\" ].index , inplace=True)\n",
    "df.drop( df[ df['Amount in USD'] ==x ].index , inplace=True)\n",
    "df = df[pd.notnull(df['Amount in USD'])]\n",
    "\n",
    "#df.to_csv('startup.csv')\n",
    "df = df.rename(columns={'Amount in USD': 'AmountinUSD'})\n",
    "df1=df['AmountinUSD'].values\n",
    "amt=[]\n",
    "amount2=''\n",
    "n=0\n",
    "b=0\n",
    "\n",
    "for i in df1:\n",
    "    for j in i:\n",
    "        if j==\",\" or j==\"+\":\n",
    "               \n",
    "            continue\n",
    "        else:\n",
    "               \n",
    "            amount2=amount2+j\n",
    "        \n",
    "\n",
    "    i=float(amount2)\n",
    "    amt.append(i)\n",
    "    amount2=''\n",
    "    n=n+1\n",
    "    \n",
    "    b=0\n",
    "df2 = pd.DataFrame(amt)\n",
    "print(df2)\n",
    "\n",
    "df.AmountinUSD=df2\n",
    "\n",
    "df.to_csv('swiggy2.csv')\n"
   ]
  },
  {
   "cell_type": "code",
   "execution_count": 27,
   "metadata": {},
   "outputs": [
    {
     "name": "stdout",
     "output_type": "stream",
     "text": [
      "[1.00e+08 8.00e+07 1.50e+07 7.00e+06 3.50e+07 1.65e+07 1.50e+07 2.00e+06\n",
      " 4.30e+07]\n"
     ]
    }
   ],
   "source": [
    "df=pd.read_csv('swiggy2.csv')\n",
    "date=(np.asanyarray(df['Date dd/mm/yyyy']))\n",
    "amount=(np.asanyarray(df['AmountinUSD'])).reshape(1,9)\n",
    "print(amount)"
   ]
  },
  {
   "cell_type": "code",
   "execution_count": 29,
   "metadata": {},
   "outputs": [],
   "source": [
    "from datetime import datetime\n",
    "date1=[]\n",
    "n=0\n",
    "for i in date:\n",
    "    i=datetime.strptime(i, '%d/%m/%Y').date()\n",
    "    date1.append(i)\n",
    "    n=n+1\n",
    "len(date1)\n",
    "date1=np.asanyarray(date1).resahpe(1,9)"
   ]
  },
  {
   "cell_type": "code",
   "execution_count": 30,
   "metadata": {},
   "outputs": [
    {
     "name": "stdout",
     "output_type": "stream",
     "text": [
      "                AmountinUSD                                                 \\\n",
      "Date dd/mm/yyyy   10/5/2016  19/01/2016  19/09/2016   3/4/2015  30/05/2017   \n",
      "Startup Name                                                                 \n",
      "Swiggy            7000000.0  35000000.0  15000000.0  2000000.0  80000000.0   \n",
      "\n",
      "                                                                  \n",
      "Date dd/mm/yyyy    6/4/2020    6/5/2015     7/2/2018    9/6/2015  \n",
      "Startup Name                                                      \n",
      "Swiggy           43000000.0  15000000.0  100000000.0  16500000.0  \n"
     ]
    },
    {
     "data": {
      "text/plain": [
       "(1, 9)"
      ]
     },
     "execution_count": 30,
     "metadata": {},
     "output_type": "execute_result"
    }
   ],
   "source": [
    "d=pd.pivot_table(df,index=['Startup Name'],columns=[\"Date dd/mm/yyyy\"],values=['AmountinUSD'])\n",
    "d=d.fillna(0)\n",
    "print(d)\n",
    "d.shape"
   ]
  },
  {
   "cell_type": "code",
   "execution_count": 34,
   "metadata": {},
   "outputs": [
    {
     "name": "stdout",
     "output_type": "stream",
     "text": [
      "(1, 9)\n",
      "(1, 9)\n",
      "AxesSubplot(0.125,0.125;0.62x0.755)\n"
     ]
    },
    {
     "data": {
      "image/png": "[encoded data removed]",
      "text/plain": [
       "<Figure size 1440x504 with 2 Axes>"
      ]
     },
     "metadata": {
      "needs_background": "light"
     },
     "output_type": "display_data"
    }
   ],
   "source": [
    "fig,ax=plt.subplots(figsize=(20,7))\n",
    "title=\"Swiggy trend\"\n",
    "plt.title(title,fontsize=18)\n",
    "ttl=ax.title\n",
    "ttl.set_position([0.5,1.05])\n",
    "ax.set_xticks([])\n",
    "ax.set_yticks([])\n",
    "ax.axis('off')\n",
    "\n",
    "labels=(np.asarray([\"{0} \\n {1:.2f}\".format(date1,amount1) for date1,amount1 in zip(date1.flatten(),amount.flatten())])).reshape(1,9)\n",
    "print(labels.shape)\n",
    "print(d.shape)\n",
    "print(sns.heatmap(d,annot=labels,fmt=\"\",cmap='RdYlGn',linewidth=0.30,ax=ax))\n",
    "plt.show()"
   ]
  },
  {
   "cell_type": "code",
   "execution_count": 45,
   "metadata": {},
   "outputs": [
    {
     "name": "stdout",
     "output_type": "stream",
     "text": [
      "(3, 11)\n",
      "            0\n",
      "0  10000000.0\n",
      "1   5000000.0\n",
      "2  12560000.0\n"
     ]
    }
   ],
   "source": [
    "df=pd.read_csv('vedantu3.csv')\n",
    "print(df.shape)\n",
    "# x=float(\"nan\")\n",
    "# df.drop( df[ df['Amount in USD'] ==\"undisclosed\" ].index , inplace=True)\n",
    "# df.drop( df[ df['Amount in USD'] ==\"Undisclosed\" ].index , inplace=True)\n",
    "# df.drop( df[ df['Amount in USD'] ==\"unknown\" ].index , inplace=True)\n",
    "# df.drop( df[ df['Amount in USD'] ==x ].index , inplace=True)\n",
    "# df = df[pd.notnull(df['Amount in USD'])]\n",
    "\n",
    "#df.to_csv('startup.csv')\n",
    "df = df.rename(columns={'Amount in USD': 'AmountinUSD'})\n",
    "df1=df['AmountinUSD'].values\n",
    "amt=[]\n",
    "amount2=''\n",
    "n=0\n",
    "b=0\n",
    "\n",
    "for i in df1:\n",
    "    for j in i:\n",
    "        if j==\",\" or j==\"+\":\n",
    "               \n",
    "            continue\n",
    "        else:\n",
    "               \n",
    "            amount2=amount2+j\n",
    "        \n",
    "\n",
    "    i=float(amount2)\n",
    "    amt.append(i)\n",
    "    amount2=''\n",
    "    n=n+1\n",
    "    \n",
    "    b=0\n",
    "df2 = pd.DataFrame(amt)\n",
    "print(df2)\n",
    "\n",
    "df.AmountinUSD=df2\n",
    "\n",
    "df.to_csv('vedantu2.csv')\n"
   ]
  },
  {
   "cell_type": "code",
   "execution_count": 57,
   "metadata": {},
   "outputs": [
    {
     "name": "stdout",
     "output_type": "stream",
     "text": [
      "[[10000000.  5000000. 12560000.]]\n"
     ]
    }
   ],
   "source": [
    "df=pd.read_csv('vedantu2.csv')\n",
    "date=(np.asanyarray(df['Date dd/mm/yyyy']))\n",
    "amount=(np.asanyarray(df['AmountinUSD'])).reshape(1,3)\n",
    "print(amount)"
   ]
  },
  {
   "cell_type": "code",
   "execution_count": 58,
   "metadata": {},
   "outputs": [],
   "source": [
    "from datetime import datetime\n",
    "date1=[]\n",
    "n=0\n",
    "for i in date:\n",
    "    i=datetime.strptime(i, '%d/%m/%Y').date()\n",
    "    date1.append(i)\n",
    "    n=n+1\n",
    "len(date1)\n",
    "date1=(np.asanyarray(date1)).reshape(1,3)"
   ]
  },
  {
   "cell_type": "code",
   "execution_count": 59,
   "metadata": {},
   "outputs": [
    {
     "name": "stdout",
     "output_type": "stream",
     "text": [
      "                AmountinUSD                       \n",
      "Date dd/mm/yyyy    5/4/2018   7/5/2015    9/4/2020\n",
      "Startup Name                                      \n",
      "Vedantu          10000000.0  5000000.0  12560000.0\n"
     ]
    },
    {
     "data": {
      "text/plain": [
       "(1, 3)"
      ]
     },
     "execution_count": 59,
     "metadata": {},
     "output_type": "execute_result"
    }
   ],
   "source": [
    "d=pd.pivot_table(df,index=['Startup Name'],columns=[\"Date dd/mm/yyyy\"],values=['AmountinUSD'])\n",
    "d=d.fillna(0)\n",
    "print(d)\n",
    "d.shape"
   ]
  },
  {
   "cell_type": "code",
   "execution_count": 50,
   "metadata": {},
   "outputs": [],
   "source": []
  },
  {
   "cell_type": "code",
   "execution_count": 60,
   "metadata": {},
   "outputs": [
    {
     "name": "stdout",
     "output_type": "stream",
     "text": [
      "(1, 3)\n",
      "(1, 3)\n",
      "AxesSubplot(0.125,0.125;0.62x0.755)\n"
     ]
    },
    {
     "data": {
      "image/png": "[encoded data removed]",
      "text/plain": [
       "<Figure size 1440x504 with 2 Axes>"
      ]
     },
     "metadata": {
      "needs_background": "light"
     },
     "output_type": "display_data"
    }
   ],
   "source": [
    "ig,ax=plt.subplots(figsize=(20,7))\n",
    "title=\"Vedantu trend\"\n",
    "plt.title(title,fontsize=18)\n",
    "ttl=ax.title\n",
    "ttl.set_position([0.5,1.05])\n",
    "ax.set_xticks([])\n",
    "ax.set_yticks([])\n",
    "ax.axis('off')\n",
    "\n",
    "labels=(np.asarray([\"{0} \\n {1:.2f}\".format(date1,amount1) for date1,amount1 in zip(date1.flatten(),amount.flatten())])).reshape(1,3)\n",
    "print(labels.shape)\n",
    "print(d.shape)\n",
    "print(sns.heatmap(d,annot=labels,fmt=\"\",cmap='RdYlGn',linewidth=0.30,ax=ax))\n",
    "plt.show()"
   ]
  },
  {
   "cell_type": "code",
   "execution_count": null,
   "metadata": {},
   "outputs": [],
   "source": []
  }
 ],
 "metadata": {
  "kernelspec": {
   "display_name": "Python 3",
   "language": "python",
   "name": "python3"
  },
  "language_info": {
   "codemirror_mode": {
    "name": "ipython",
    "version": 3
   },
   "file_extension": ".py",
   "mimetype": "text/x-python",
   "name": "python",
   "nbconvert_exporter": "python",
   "pygments_lexer": "ipython3",
   "version": "3.8.2"
  }
 },
 "nbformat": 4,
 "nbformat_minor": 4
}
