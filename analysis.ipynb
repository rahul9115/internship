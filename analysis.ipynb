{
 "cells": [
  {
   "cell_type": "code",
   "execution_count": 4,
   "metadata": {},
   "outputs": [],
   "source": [
    "import pandas as pd\n",
    "import matplotlib.pyplot as plt\n",
    "import pylab as pl\n",
    "import math as math"
   ]
  },
  {
   "cell_type": "code",
   "execution_count": 5,
   "metadata": {},
   "outputs": [
    {
     "data": {
      "text/html": [
       "<div>\n",
       "<style scoped>\n",
       "    .dataframe tbody tr th:only-of-type {\n",
       "        vertical-align: middle;\n",
       "    }\n",
       "\n",
       "    .dataframe tbody tr th {\n",
       "        vertical-align: top;\n",
       "    }\n",
       "\n",
       "    .dataframe thead th {\n",
       "        text-align: right;\n",
       "    }\n",
       "</style>\n",
       "<table border=\"1\" class=\"dataframe\">\n",
       "  <thead>\n",
       "    <tr style=\"text-align: right;\">\n",
       "      <th></th>\n",
       "      <th>Date (dd/mm/yyyy)</th>\n",
       "      <th>Startup Name</th>\n",
       "      <th>Amount (In USD)</th>\n",
       "      <th>Industry / Vertical</th>\n",
       "      <th>Sub-Vertical</th>\n",
       "    </tr>\n",
       "  </thead>\n",
       "  <tbody>\n",
       "    <tr>\n",
       "      <th>95</th>\n",
       "      <td>09-04-2020</td>\n",
       "      <td>Vedantu</td>\n",
       "      <td>1,25,60,000</td>\n",
       "      <td>EduTech</td>\n",
       "      <td>Online Tutoring</td>\n",
       "    </tr>\n",
       "  </tbody>\n",
       "</table>\n",
       "</div>"
      ],
      "text/plain": [
       "   Date (dd/mm/yyyy) Startup Name Amount (In USD) Industry / Vertical  \\\n",
       "95        09-04-2020      Vedantu     1,25,60,000             EduTech   \n",
       "\n",
       "       Sub-Vertical  \n",
       "95  Online Tutoring  "
      ]
     },
     "execution_count": 5,
     "metadata": {},
     "output_type": "execute_result"
    }
   ],
   "source": [
    "df=pd.read_csv('merge.csv')\n",
    "cdf1=df.loc[df['Startup Name']=='Vedantu']\n",
    "cdf1[['Date (dd/mm/yyyy)','Startup Name','Amount (In USD)','Industry / Vertical','Sub-Vertical']]\n"
   ]
  },
  {
   "cell_type": "code",
   "execution_count": 55,
   "metadata": {},
   "outputs": [
    {
     "data": {
      "text/html": [
       "<div>\n",
       "<style scoped>\n",
       "    .dataframe tbody tr th:only-of-type {\n",
       "        vertical-align: middle;\n",
       "    }\n",
       "\n",
       "    .dataframe tbody tr th {\n",
       "        vertical-align: top;\n",
       "    }\n",
       "\n",
       "    .dataframe thead th {\n",
       "        text-align: right;\n",
       "    }\n",
       "</style>\n",
       "<table border=\"1\" class=\"dataframe\">\n",
       "  <thead>\n",
       "    <tr style=\"text-align: right;\">\n",
       "      <th></th>\n",
       "      <th>Date dd/mm/yyyy</th>\n",
       "      <th>Startup Name</th>\n",
       "      <th>Amount in USD</th>\n",
       "      <th>Industry Vertical</th>\n",
       "      <th>SubVertical</th>\n",
       "    </tr>\n",
       "  </thead>\n",
       "  <tbody>\n",
       "    <tr>\n",
       "      <th>286</th>\n",
       "      <td>05/04/2018</td>\n",
       "      <td>Vedantu</td>\n",
       "      <td>1,00,00,000</td>\n",
       "      <td>Ed-Tech</td>\n",
       "      <td>Interactive Online Tutoring Platform</td>\n",
       "    </tr>\n",
       "    <tr>\n",
       "      <th>2767</th>\n",
       "      <td>07/05/2015</td>\n",
       "      <td>Vedantu</td>\n",
       "      <td>50,00,000</td>\n",
       "      <td>Online Education Platform</td>\n",
       "      <td>NaN</td>\n",
       "    </tr>\n",
       "  </tbody>\n",
       "</table>\n",
       "</div>"
      ],
      "text/plain": [
       "     Date dd/mm/yyyy Startup Name Amount in USD          Industry Vertical  \\\n",
       "286       05/04/2018      Vedantu   1,00,00,000                    Ed-Tech   \n",
       "2767      07/05/2015      Vedantu     50,00,000  Online Education Platform   \n",
       "\n",
       "                               SubVertical  \n",
       "286   Interactive Online Tutoring Platform  \n",
       "2767                                   NaN  "
      ]
     },
     "execution_count": 55,
     "metadata": {},
     "output_type": "execute_result"
    }
   ],
   "source": [
    "df=pd.read_csv('startup_funding.csv')\n",
    "df.dropna()\n",
    "cdf=df.loc[df['Startup Name']=='Vedantu']\n",
    "cdf[['Date dd/mm/yyyy','Startup Name','Amount in USD','Industry Vertical','SubVertical']]\n"
   ]
  },
  {
   "cell_type": "code",
   "execution_count": 91,
   "metadata": {},
   "outputs": [],
   "source": [
    "def plot(x1,y1,x,y):\n",
    "    amount=''\n",
    "    z=[]\n",
    "    x2=[]\n",
    "    date=''\n",
    "    for i in y:\n",
    "        if i==\"undisclosed\":\n",
    "            continue\n",
    "        for j in i:\n",
    "            if j==\",\":\n",
    "                continue\n",
    "            else:\n",
    "                amount=amount+j\n",
    "        i=float(amount)\n",
    "        z.append(i)\n",
    "        \n",
    "        amount=''\n",
    "    z.reverse()\n",
    "\n",
    "    \n",
    "    for i in y1:\n",
    "        if i==\"undisclosed\":\n",
    "            continue\n",
    "        for j in i:\n",
    "            if j==\",\":\n",
    "                continue\n",
    "            else:\n",
    "                amount=amount+j\n",
    "        i=float(amount)\n",
    "        \n",
    "        z.append(i)\n",
    "        amount=''\n",
    "    \n",
    "    for i in x:\n",
    "        for j in i:\n",
    "            if j=='/':\n",
    "                date=date+'-'\n",
    "            else:\n",
    "                date=date+j\n",
    "        x2.append(date)\n",
    "        date=''\n",
    "    x2.reverse()\n",
    "    m=x2\n",
    "    k=0\n",
    "    n=0\n",
    "    b=0\n",
    "    for i in x1:\n",
    "        x2.append(i)\n",
    "        \n",
    "    for i in x2:\n",
    "        for j in m:\n",
    "            if b==n:\n",
    "                b=b+1\n",
    "                continue\n",
    "            if i==j:\n",
    "                z.pop(b)\n",
    "                x2.pop(b)\n",
    "                b=b+1\n",
    "            b=b+1\n",
    "            \n",
    "        n=n+1\n",
    "        b=0\n",
    "            \n",
    "        \n",
    "    print(z,x2)\n",
    "    plt.figure(figsize=(20,10))\n",
    "    plt.plot(x2,z,color=\"blue\")\n",
    "    plt.xlabel('Date')\n",
    "    plt.ylabel('Swiggy Funds')\n",
    "    plt.show()"
   ]
  },
  {
   "cell_type": "code",
   "execution_count": 94,
   "metadata": {},
   "outputs": [
    {
     "name": "stdout",
     "output_type": "stream",
     "text": [
      "[25000000.0, 60000000.0, 200000000.0, 150000000.0] ['11-04-2015', '07-09-2015', '01-02-2018', '10-01-2020']\n"
     ]
    },
    {
     "data": {
      "image/png": "[encoded data removed]",
      "text/plain": [
       "<Figure size 1440x720 with 1 Axes>"
      ]
     },
     "metadata": {
      "needs_background": "light"
     },
     "output_type": "display_data"
    }
   ],
   "source": [
    "df=pd.read_csv('startup_funding (1).csv')\n",
    "df = df[df['Amount in USD'].notna()]\n",
    "cdf=df.loc[df['Startup Name']==\"Zomato\"]\n",
    "\n",
    "\n",
    "df=pd.read_csv('merge.csv')\n",
    "df = df[df['Amount (In USD)'].notna()]\n",
    "cdf1=df.loc[df['Startup Name']==\"Zomato\"]\n",
    "\n",
    "x1=cdf1['Date (dd/mm/yyyy)'].values\n",
    "y1=cdf1['Amount (In USD)'].values\n",
    "x=cdf['Date dd/mm/yyyy'].values\n",
    "y=cdf['Amount in USD'].values\n",
    "plot(x1,y1,x,y)"
   ]
  },
  {
   "cell_type": "code",
   "execution_count": 90,
   "metadata": {},
   "outputs": [
    {
     "name": "stdout",
     "output_type": "stream",
     "text": [
      "30-07-2018 5\n",
      "13-01-2020 4\n",
      "[20000000.0, 11000000.0, 5000000.0, 8048394.0] ['03-12-2015', '30-07-2018', '17-04-2019', '13-01-2020']\n"
     ]
    }
   ],
   "source": [
    "x2=['03-12-2015', '30-07-2018', '17-04-2019', '13-01-2020', '13-01-2020', '30-07-2018']\n",
    "z=[20000000.0, 11000000.0, 5000000.0, 8048394.0, 8048394.0, 11000000.0]\n",
    "m=x2\n",
    "n=0\n",
    "for i in x2:\n",
    "    \n",
    "    for j in m:\n",
    "        \n",
    "        if b==n:\n",
    "            b=b+1\n",
    "            continue\n",
    "        if i==j:\n",
    "            z.pop(b)\n",
    "            print(j,b)\n",
    "            x2.pop(b)\n",
    "            b=b+1\n",
    "        b=b+1\n",
    "            \n",
    "    n=n+1\n",
    "    b=0\n",
    "            \n",
    "                \n",
    "print(z,x2)                        "
   ]
  },
  {
   "cell_type": "code",
   "execution_count": null,
   "metadata": {},
   "outputs": [],
   "source": []
  },
  {
   "cell_type": "code",
   "execution_count": null,
   "metadata": {},
   "outputs": [],
   "source": [
    "   "
   ]
  },
  {
   "cell_type": "code",
   "execution_count": null,
   "metadata": {},
   "outputs": [],
   "source": []
  },
  {
   "cell_type": "code",
   "execution_count": null,
   "metadata": {},
   "outputs": [],
   "source": []
  },
  {
   "cell_type": "code",
   "execution_count": null,
   "metadata": {},
   "outputs": [],
   "source": []
  },
  {
   "cell_type": "code",
   "execution_count": null,
   "metadata": {},
   "outputs": [],
   "source": []
  },
  {
   "cell_type": "code",
   "execution_count": null,
   "metadata": {},
   "outputs": [],
   "source": []
  },
  {
   "cell_type": "code",
   "execution_count": 103,
   "metadata": {},
   "outputs": [],
   "source": []
  },
  {
   "cell_type": "code",
   "execution_count": null,
   "metadata": {},
   "outputs": [],
   "source": []
  },
  {
   "cell_type": "code",
   "execution_count": null,
   "metadata": {},
   "outputs": [],
   "source": []
  }
 ],
 "metadata": {
  "kernelspec": {
   "display_name": "Python 3",
   "language": "python",
   "name": "python3"
  },
  "language_info": {
   "codemirror_mode": {
    "name": "ipython",
    "version": 3
   },
   "file_extension": ".py",
   "mimetype": "text/x-python",
   "name": "python",
   "nbconvert_exporter": "python",
   "pygments_lexer": "ipython3",
   "version": "3.8.2"
  }
 },
 "nbformat": 4,
 "nbformat_minor": 4
}
