{
 "cells": [
  {
   "cell_type": "code",
   "execution_count": 53,
   "metadata": {},
   "outputs": [],
   "source": [
    "import pandas as pd\n",
    "import matplotlib.pyplot as plt\n",
    "import pylab as pl"
   ]
  },
  {
   "cell_type": "code",
   "execution_count": 48,
   "metadata": {},
   "outputs": [
    {
     "data": {
      "text/html": [
       "<div>\n",
       "<style scoped>\n",
       "    .dataframe tbody tr th:only-of-type {\n",
       "        vertical-align: middle;\n",
       "    }\n",
       "\n",
       "    .dataframe tbody tr th {\n",
       "        vertical-align: top;\n",
       "    }\n",
       "\n",
       "    .dataframe thead th {\n",
       "        text-align: right;\n",
       "    }\n",
       "</style>\n",
       "<table border=\"1\" class=\"dataframe\">\n",
       "  <thead>\n",
       "    <tr style=\"text-align: right;\">\n",
       "      <th></th>\n",
       "      <th>Date (dd/mm/yyyy)</th>\n",
       "      <th>Startup Name</th>\n",
       "      <th>Amount (In USD)</th>\n",
       "      <th>Industry / Vertical</th>\n",
       "      <th>Sub-Vertical</th>\n",
       "    </tr>\n",
       "  </thead>\n",
       "  <tbody>\n",
       "    <tr>\n",
       "      <th>95</th>\n",
       "      <td>09-04-2020</td>\n",
       "      <td>Vedantu</td>\n",
       "      <td>1,25,60,000</td>\n",
       "      <td>EduTech</td>\n",
       "      <td>Online Tutoring</td>\n",
       "    </tr>\n",
       "  </tbody>\n",
       "</table>\n",
       "</div>"
      ],
      "text/plain": [
       "   Date (dd/mm/yyyy) Startup Name Amount (In USD) Industry / Vertical  \\\n",
       "95        09-04-2020      Vedantu     1,25,60,000             EduTech   \n",
       "\n",
       "       Sub-Vertical  \n",
       "95  Online Tutoring  "
      ]
     },
     "execution_count": 48,
     "metadata": {},
     "output_type": "execute_result"
    }
   ],
   "source": [
    "df=pd.read_csv('merge.csv')\n",
    "cdf1=df.loc[df['Startup Name']=='Vedantu']\n",
    "cdf1[['Date (dd/mm/yyyy)','Startup Name','Amount (In USD)','Industry / Vertical','Sub-Vertical']]\n"
   ]
  },
  {
   "cell_type": "code",
   "execution_count": 46,
   "metadata": {},
   "outputs": [
    {
     "data": {
      "text/html": [
       "<div>\n",
       "<style scoped>\n",
       "    .dataframe tbody tr th:only-of-type {\n",
       "        vertical-align: middle;\n",
       "    }\n",
       "\n",
       "    .dataframe tbody tr th {\n",
       "        vertical-align: top;\n",
       "    }\n",
       "\n",
       "    .dataframe thead th {\n",
       "        text-align: right;\n",
       "    }\n",
       "</style>\n",
       "<table border=\"1\" class=\"dataframe\">\n",
       "  <thead>\n",
       "    <tr style=\"text-align: right;\">\n",
       "      <th></th>\n",
       "      <th>Date dd/mm/yyyy</th>\n",
       "      <th>Startup Name</th>\n",
       "      <th>Amount in USD</th>\n",
       "      <th>Industry Vertical</th>\n",
       "      <th>SubVertical</th>\n",
       "    </tr>\n",
       "  </thead>\n",
       "  <tbody>\n",
       "    <tr>\n",
       "      <th>286</th>\n",
       "      <td>05/04/2018</td>\n",
       "      <td>Vedantu</td>\n",
       "      <td>1,00,00,000</td>\n",
       "      <td>Ed-Tech</td>\n",
       "      <td>Interactive Online Tutoring Platform</td>\n",
       "    </tr>\n",
       "    <tr>\n",
       "      <th>2767</th>\n",
       "      <td>07/05/2015</td>\n",
       "      <td>Vedantu</td>\n",
       "      <td>50,00,000</td>\n",
       "      <td>Online Education Platform</td>\n",
       "      <td>NaN</td>\n",
       "    </tr>\n",
       "  </tbody>\n",
       "</table>\n",
       "</div>"
      ],
      "text/plain": [
       "     Date dd/mm/yyyy Startup Name Amount in USD          Industry Vertical  \\\n",
       "286       05/04/2018      Vedantu   1,00,00,000                    Ed-Tech   \n",
       "2767      07/05/2015      Vedantu     50,00,000  Online Education Platform   \n",
       "\n",
       "                               SubVertical  \n",
       "286   Interactive Online Tutoring Platform  \n",
       "2767                                   NaN  "
      ]
     },
     "execution_count": 46,
     "metadata": {},
     "output_type": "execute_result"
    }
   ],
   "source": [
    "df=pd.read_csv('startup_funding (1).csv')\n",
    "cdf=df.loc[df['Startup Name']=='Vedantu']\n",
    "cdf[['Date dd/mm/yyyy','Startup Name','Amount in USD','Industry Vertical','SubVertical']]\n"
   ]
  },
  {
   "cell_type": "code",
   "execution_count": 101,
   "metadata": {},
   "outputs": [
    {
     "name": "stdout",
     "output_type": "stream",
     "text": [
      "10000000.0\n",
      "5000000.0\n",
      "yo [5000000.0, 10000000.0]\n",
      "12560000.0\n",
      "[5000000.0, 10000000.0, 12560000.0]\n"
     ]
    },
    {
     "data": {
      "image/png": "[encoded data removed]",
      "text/plain": [
       "<Figure size 432x288 with 1 Axes>"
      ]
     },
     "metadata": {
      "needs_background": "light"
     },
     "output_type": "display_data"
    }
   ],
   "source": [
    "x1=cdf1['Date (dd/mm/yyyy)'].values\n",
    "y1=cdf1['Amount (In USD)'].values\n",
    "x=cdf['Date dd/mm/yyyy'].values\n",
    "y=cdf['Amount in USD'].values\n",
    "amount=''\n",
    "z=[]\n",
    "x2=[]\n",
    "for i in y:\n",
    "    for j in i:\n",
    "        if j==\",\":\n",
    "            continue\n",
    "        else:\n",
    "            amount=amount+j\n",
    "    i=float(amount)\n",
    "    print(i)\n",
    "    z.append(i)\n",
    "    amount=''\n",
    "z.reverse()\n",
    "print(\"yo\",z)\n",
    "for i in y1:\n",
    "    for j in i:\n",
    "        if j==\",\":\n",
    "            continue\n",
    "        else:\n",
    "            amount=amount+j\n",
    "    i=float(amount)\n",
    "    print(i)\n",
    "    z.append(i)\n",
    "    amount=''\n",
    "for i in x:\n",
    "    x2.append(i)\n",
    "x2.reverse()\n",
    "for i in x1:\n",
    "    x2.append(i)\n",
    "print(z)    \n",
    "plt.plot(x2,z,color=\"blue\")\n",
    "plt.xlabel('Date')\n",
    "plt.ylabel('Vedantuc Funds')\n",
    "plt.show()"
   ]
  },
  {
   "cell_type": "code",
   "execution_count": 84,
   "metadata": {},
   "outputs": [
    {
     "name": "stdout",
     "output_type": "stream",
     "text": [
      "['05/04/2018' '07/05/2015']\n"
     ]
    }
   ],
   "source": [
    "x=cdf['Date dd/mm/yyyy'].values\n",
    "print(x)"
   ]
  },
  {
   "cell_type": "code",
   "execution_count": null,
   "metadata": {},
   "outputs": [],
   "source": []
  },
  {
   "cell_type": "code",
   "execution_count": null,
   "metadata": {},
   "outputs": [],
   "source": []
  }
 ],
 "metadata": {
  "kernelspec": {
   "display_name": "Python 3",
   "language": "python",
   "name": "python3"
  },
  "language_info": {
   "codemirror_mode": {
    "name": "ipython",
    "version": 3
   },
   "file_extension": ".py",
   "mimetype": "text/x-python",
   "name": "python",
   "nbconvert_exporter": "python",
   "pygments_lexer": "ipython3",
   "version": "3.8.2"
  }
 },
 "nbformat": 4,
 "nbformat_minor": 4
}
